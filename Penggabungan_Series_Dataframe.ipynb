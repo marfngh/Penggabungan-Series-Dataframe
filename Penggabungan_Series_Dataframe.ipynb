{
  "nbformat": 4,
  "nbformat_minor": 0,
  "metadata": {
    "colab": {
      "provenance": []
    },
    "kernelspec": {
      "name": "python3",
      "display_name": "Python 3"
    },
    "language_info": {
      "name": "python"
    }
  },
  "cells": [
    {
      "cell_type": "markdown",
      "source": [
        "PENGGABUNGAN SERIES/DATAFRAME"
      ],
      "metadata": {
        "id": "uS1NxVmsupM9"
      }
    },
    {
      "cell_type": "markdown",
      "source": [
        "Terdapat beberapa metode untuk menggabungkan series/dataframe di pandas, yaitu:\n",
        "1. append\n",
        "2. concat\n",
        "3. merge\n",
        "4. join"
      ],
      "metadata": {
        "id": "zkTIon3gu4Cr"
      }
    },
    {
      "cell_type": "markdown",
      "source": [
        "**Import library**"
      ],
      "metadata": {
        "id": "_eoqBgZHvJka"
      }
    },
    {
      "cell_type": "markdown",
      "source": [
        "*Append*"
      ],
      "metadata": {
        "id": "Fw77iKjFvdER"
      }
    },
    {
      "cell_type": "markdown",
      "source": [
        "dapat digunakan pada dataframe/series yang ditujukan untuk menambah row-nya saja"
      ],
      "metadata": {
        "id": "baVZZXyLxYop"
      }
    },
    {
      "cell_type": "code",
      "source": [
        "# Membuat series of int (s1) dan series of string (s2)\n",
        "s1 = pd.Series([1,2,3,4,5,6])\n",
        "s2 = pd.Series ([\"a\",\"b\",\"c\",\"d\",\"e\",\"f\"])\n",
        "\n",
        "#Menerapkan method append\n",
        "s1_append_s2=s1.append(s2)\n",
        "print(\"Series - append: \\n\", s1_append_52)"
      ],
      "metadata": {
        "id": "dkOdn9zSvphG"
      },
      "execution_count": null,
      "outputs": []
    },
    {
      "cell_type": "markdown",
      "source": [
        "untuk Dataframe"
      ],
      "metadata": {
        "id": "5X762VETwUMO"
      }
    },
    {
      "cell_type": "code",
      "source": [
        "#Buat dataframe df1 dan df2\n",
        "\n",
        "df1 = pd.DataFrame({'a':[1,2],\n",
        "                    'b':[3,4]})\n",
        "print(\"df1:\\n\", df1)\n",
        "df2 = pd.DataFrame({'b':[1,2],\n",
        "                    'a':[3,4]})\n",
        "print(\"df2:\\n\", df2)\n",
        "\n",
        "#Terapkan method append\n",
        "df1_append_df2 = df1.append(df2)\n",
        "print(\"Dataframe - append:\\n\", df1_append_df2)"
      ],
      "metadata": {
        "id": "ivdwreacwT3C"
      },
      "execution_count": null,
      "outputs": []
    },
    {
      "cell_type": "markdown",
      "source": [
        "*Concat*"
      ],
      "metadata": {
        "id": "AMlE-hgLw-mq"
      }
    },
    {
      "cell_type": "markdown",
      "source": [
        "dapat digunakan pada dataframe yang ditunjukkan untuk penggabungan baik dalam roe-eise atau column-wise"
      ],
      "metadata": {
        "id": "fSlXveY-xL5j"
      }
    },
    {
      "cell_type": "code",
      "source": [
        "# Membuat dataframe df1 dan df2\n",
        "df1 = pd.DataFrame({'a':[1,2],\n",
        "                    'b':[3,4]})\n",
        "print(\"df1:\\n\", df1)\n",
        "df2 = pd.DataFrame({'b':[1,2],\n",
        "                    'a':[3,4]})\n",
        "print(\"df2:\\n\", df2)\n",
        "\n",
        "#Menerapkan method concat row-wise\n",
        "row_wise_concat = pd.concat([df1,df2])\n",
        "print(\"Row-wise - concat:\\n\", row_wise_concat)"
      ],
      "metadata": {
        "id": "aMH_cnoaxANf"
      },
      "execution_count": null,
      "outputs": []
    },
    {
      "cell_type": "markdown",
      "source": [
        "penerapan pada column-wise"
      ],
      "metadata": {
        "id": "-XrhO1Iax7tu"
      }
    },
    {
      "cell_type": "code",
      "source": [
        "#Terapkan method concat column-wise\n",
        "col_wise_concat = pd.concat([df1, df2], axis=1)\n",
        "print(\"column-wise - concat:\\n\", col_wise_concat)"
      ],
      "metadata": {
        "id": "SWoxufqIx_uU"
      },
      "execution_count": null,
      "outputs": []
    },
    {
      "cell_type": "markdown",
      "source": [
        "dapat juga menambahkan identifier dari dataframe untuk data yang ditambahkan"
      ],
      "metadata": {
        "id": "iLnmYHBeybfK"
      }
    },
    {
      "cell_type": "code",
      "source": [
        "Penambahan Identifier membentuh hasil penggabungan maltiindex\n",
        "multiindex_concat = pd.concat([df1,df2], axis-0, keys=['df1','df2]')\n",
        "print(\"multiindex - concat:\\n\", multiindex_concat)"
      ],
      "metadata": {
        "id": "RYNwGzYy1dvO"
      },
      "execution_count": null,
      "outputs": []
    },
    {
      "cell_type": "markdown",
      "source": [
        "*Merge*\n"
      ],
      "metadata": {
        "id": "2ICKztxr25Y1"
      }
    },
    {
      "cell_type": "markdown",
      "source": [
        "untuk menggabungkan Series/Dataframe yang bentuknya mirip dengan syntax join di SQL, specify left and right tables, join key dan how to join (left, right, inner, full outer)."
      ],
      "metadata": {
        "id": "E_Z6RQpY27wz"
      }
    },
    {
      "cell_type": "code",
      "source": [
        "#Membuat dataframe df1 dan df2\n",
        "df1 = pd.DataFrame({\n",
        "   'key':['k1','k2','k3','k4','k5'],\n",
        "   'val1':[200, 500, 0, 500, 100],\n",
        "   'val2':[30, 50, 100, 20, 10]\n",
        "})\n",
        "print(\"df1:\\n\", df1)\n",
        "df2 = pd.DataFrame({\n",
        "   'key':['k1','k3','k5','k7','k10'],\n",
        "   'val3':[1,2,3,4,5],\n",
        "   'val4':[6,7,8,8,10]\n",
        "})\n",
        "print(\"df2:\\n\", df2)"
      ],
      "metadata": {
        "id": "MjB6aCIk3Crc"
      },
      "execution_count": null,
      "outputs": []
    },
    {
      "cell_type": "code",
      "source": [
        "# Merge yang ekivalen dengan SQL left join\n",
        "merge_df_left = pd.merge(left=df2, right=df1, how='left', left_on='key', right_on='key')\n",
        "print('Merge - Left:\\n', merge_df_left)"
      ],
      "metadata": {
        "id": "VezAx1Uf49vN"
      },
      "execution_count": null,
      "outputs": []
    },
    {
      "cell_type": "code",
      "source": [
        "# Merge yang ekivalen dengan SQL right join\n",
        "merge_df_right = pd.merge(left=df1, right=df2, how='right', left_on='key', right_on='key')\n",
        "print('Merge - Right:\\n', merge_df_right)"
      ],
      "metadata": {
        "id": "9inJj3ER5HQr"
      },
      "execution_count": null,
      "outputs": []
    },
    {
      "cell_type": "code",
      "source": [
        "# Merge yang ekivalen dengan SQL inner join\n",
        "merge_df_inner = pd.merge(left=df1, right=df2, how='inner', left_on='key', right_on='key')\n",
        "print('Merge - Inner:\\n', merge_df_inner)"
      ],
      "metadata": {
        "id": "JDDGKj0J5XRK"
      },
      "execution_count": null,
      "outputs": []
    },
    {
      "cell_type": "code",
      "source": [
        "# Merge yang ekivalen dengan SQL outer join\n",
        "merge_df_outer = pd.merge(left=df1, right=df2, how='outer', left_on='key', right_on='key')\n",
        "print('Merge - Outer:\\n', merge_df_outer)"
      ],
      "metadata": {
        "id": "1zwDt-T-5ibG"
      },
      "execution_count": null,
      "outputs": []
    },
    {
      "cell_type": "markdown",
      "source": [
        "Bagaimana jika salah satu dataframe atau keseluruhan dataframe yang akan digabungkan tersebut memiliki multiindex?\n",
        "\n"
      ],
      "metadata": {
        "id": "_Vjfegil5v7u"
      }
    },
    {
      "cell_type": "code",
      "source": [
        "#Membuat dataframe df1 dan df2\n",
        "df1 = pd.DataFrame({\n",
        "   'key':['k1','k2','k3','k4','k5'],\n",
        "   'val1':[200, 500, 0, 500, 100],\n",
        "   'val2':[30, 50, 100, 20, 10]\n",
        "}).set_index(['key', 'val2'])\n",
        "print('Dataframe 1:\\n', df1)\n",
        "df2 = pd.DataFrame({\n",
        "   'key':['k1','k3','k5','k7','k10'],\n",
        "   'val3':[1,2,3,4,5],\n",
        "   'val4':[6,7,8,8,10]\n",
        "}).set_index(['key', 'val3'])\n",
        "print('Dataframe 2:\\n', df2)"
      ],
      "metadata": {
        "id": "97S9BE7D5xB6"
      },
      "execution_count": null,
      "outputs": []
    },
    {
      "cell_type": "markdown",
      "source": [
        "jika digabungkan secara langsung seperti yang telah dilakukan pada bagian sebelumnya"
      ],
      "metadata": {
        "id": "iCpknHzy6sKV"
      }
    },
    {
      "cell_type": "code",
      "source": [
        "#Merge dataframe yang memiliki multi index\n",
        "#df_merge = pd.merge(df1,df2)\n",
        "#print(\"Merging dataframe:\\n, df_merge\")"
      ],
      "metadata": {
        "id": "X0EJ3d-b6tt_"
      },
      "execution_count": null,
      "outputs": []
    },
    {
      "cell_type": "code",
      "source": [
        "# Merge dataframe yang memiliki multi index\n",
        "df_merge = pd.merge(df1.reset_index(),df2.reset_index())\n",
        "print('Merging dataframe:\\n', df_merge)"
      ],
      "metadata": {
        "id": "fIwZm97N6jyJ"
      },
      "execution_count": null,
      "outputs": []
    },
    {
      "cell_type": "markdown",
      "source": [
        "*Join*"
      ],
      "metadata": {
        "id": "RUbB_39z7HfV"
      }
    },
    {
      "cell_type": "markdown",
      "source": [
        "digunakan pada dataframe untuk menggabungkan kedua data dengan set index pada kedua tabel tersebut sebagai join key, tanpa index, hal ini tidak akan berhasil."
      ],
      "metadata": {
        "id": "76wMUC1t7Ma7"
      }
    },
    {
      "cell_type": "code",
      "source": [
        "#Membuat dataframe df1 dan df2\n",
        "df1 = pd.DataFrame({\n",
        "   'key':['k1','k2','k3','k4','k5'],\n",
        "   'val1':[200, 500, 0, 500, 100],\n",
        "   'val2':[30, 50, 100, 20, 10]\n",
        "})\n",
        "df2 = pd.DataFrame({\n",
        "   'key':['k1','k3','k5','k7','k10'],\n",
        "   'val3':[1,2,3,4,5],\n",
        "   'val4':[6,7,8,8,10]\n",
        "})\n",
        "# Penerapan join dengan menggunakan set_index dan keyword how\n",
        "#df1.join(df2) #<-- akan error"
      ],
      "metadata": {
        "id": "AKCrkM8f7YwE"
      },
      "execution_count": null,
      "outputs": []
    },
    {
      "cell_type": "code",
      "source": [
        "print(df.set_index('key').join(df2.set_index('key')))"
      ],
      "metadata": {
        "id": "XXGbKa_o72Gr"
      },
      "execution_count": null,
      "outputs": []
    },
    {
      "cell_type": "markdown",
      "source": [
        "untuk tipe join yang lain(contoh=inner), harus menspecify keyword how='inner' seperti yang dicontohkan berikut ini"
      ],
      "metadata": {
        "id": "_kfahwaS8Jm6"
      }
    },
    {
      "cell_type": "code",
      "source": [
        "join_df = df1.set_index('key').join(df2.set_index('key'), how='inner')\n",
        "print(join_df)"
      ],
      "metadata": {
        "id": "7xnVWtr38aTi"
      },
      "execution_count": null,
      "outputs": []
    }
  ]
}